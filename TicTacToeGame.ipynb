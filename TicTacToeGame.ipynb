{
 "cells": [
  {
   "cell_type": "markdown",
   "metadata": {},
   "source": [
    "# Tic Tac Toe game"
   ]
  },
  {
   "cell_type": "code",
   "execution_count": 1,
   "metadata": {},
   "outputs": [],
   "source": [
    "from IPython.display import clear_output"
   ]
  },
  {
   "cell_type": "code",
   "execution_count": 2,
   "metadata": {},
   "outputs": [],
   "source": [
    "# Create a board\n",
    "def display_tictac_board(board):\n",
    "    clear_output()\n",
    "    print(' '+board[7]+' | '+board[8]+' | '+board[9]+' ')\n",
    "    print('---'+'|'+'---'+'|'+'---')\n",
    "    print(' '+board[4]+' | '+board[5]+' | '+board[6]+' ')\n",
    "    print('---'+'|'+'---'+'|'+'---')\n",
    "    print(' '+board[1]+' | '+board[2]+' | '+board[3]+' ')"
   ]
  },
  {
   "cell_type": "code",
   "execution_count": 3,
   "metadata": {},
   "outputs": [
    {
     "name": "stdout",
     "output_type": "stream",
     "text": [
      "   |   |   \n",
      "---|---|---\n",
      "   |   |   \n",
      "---|---|---\n",
      "   |   |   \n"
     ]
    }
   ],
   "source": [
    "test_board = ['#','X','O','X','O','X','O','X','O','X'] # have # to block the 0\n",
    "empty_board = [' ']*10\n",
    "# empty_board = [' ',' ',' ',' ',' ',' ',' ',' ',' ',' ']\n",
    "display_tictac_board(empty_board)\n",
    "# display_tictac_board(empty_board)\n",
    "# clear_output()\n",
    "# clear_output()"
   ]
  },
  {
   "cell_type": "code",
   "execution_count": 4,
   "metadata": {},
   "outputs": [],
   "source": [
    "def player_input():\n",
    "    \n",
    "    '''\n",
    "    OUTPUT = (player 1 marker, player 2 marker)\n",
    "    '''\n",
    "    \n",
    "    marker = ''\n",
    "\n",
    "    while marker not in ['X','O']:\n",
    "        marker = input('Player 1: Chose X or O: ').upper()\n",
    "        \n",
    "    player1 = marker \n",
    "    \n",
    "    if player1 == 'X':\n",
    "        player2 = 'O'\n",
    "    else:\n",
    "        player2 = 'X'\n",
    "        \n",
    "#     print('Player 1 will go first.')\n",
    "    return (player1, player2)\n",
    "    "
   ]
  },
  {
   "cell_type": "code",
   "execution_count": 85,
   "metadata": {},
   "outputs": [
    {
     "name": "stdout",
     "output_type": "stream",
     "text": [
      "Player 1: Chose X or O: o\n"
     ]
    }
   ],
   "source": [
    "player1_marker, player2_marker = player_input()"
   ]
  },
  {
   "cell_type": "code",
   "execution_count": 86,
   "metadata": {},
   "outputs": [
    {
     "data": {
      "text/plain": [
       "'X'"
      ]
     },
     "execution_count": 86,
     "metadata": {},
     "output_type": "execute_result"
    }
   ],
   "source": [
    "player2_marker"
   ]
  },
  {
   "cell_type": "code",
   "execution_count": 5,
   "metadata": {},
   "outputs": [],
   "source": [
    "def place_marker(board, marker, position):\n",
    "    \n",
    "    board[position] = marker"
   ]
  },
  {
   "cell_type": "code",
   "execution_count": 6,
   "metadata": {},
   "outputs": [
    {
     "name": "stdout",
     "output_type": "stream",
     "text": [
      " X | @ | X \n",
      "---|---|---\n",
      " O | X | O \n",
      "---|---|---\n",
      " X | O | X \n"
     ]
    }
   ],
   "source": [
    "place_marker(test_board,'@',8)\n",
    "display_tictac_board(test_board)"
   ]
  },
  {
   "cell_type": "code",
   "execution_count": 7,
   "metadata": {},
   "outputs": [],
   "source": [
    "def win_check(board, mark):\n",
    "    \n",
    "    #win the player, possible combination\n",
    "    #all rows , and check to see if they all lshare the same marker?\n",
    "    \n",
    "    return ((board[1] == board[2] == board[3] == mark) or \n",
    "    (board[4] == board[5] == board[6] == mark) or\n",
    "    (board[7] == board[8] == board[9] == mark) or\n",
    "    (board[1] == board[4] == board[7] == mark) or\n",
    "    (board[2] == board[5] == board[8] == mark) or\n",
    "    (board[3] == board[6] == board[9] == mark) or\n",
    "    (board[3] == board[5] == board[7] == mark) or\n",
    "    (board[1] == board[5] == board[9] == mark))\n",
    "    #all columns , check to see if marker matches\n",
    "    #2 diagonals, check to see match"
   ]
  },
  {
   "cell_type": "code",
   "execution_count": 106,
   "metadata": {},
   "outputs": [
    {
     "name": "stdout",
     "output_type": "stream",
     "text": [
      " X | @ | X \n",
      "---|---|---\n",
      " O | X | O \n",
      "---|---|---\n",
      " X | O | X \n"
     ]
    }
   ],
   "source": [
    "display_tictac_board(test_board)\n",
    "# win_check(test_board, 'X')\n"
   ]
  },
  {
   "cell_type": "code",
   "execution_count": 8,
   "metadata": {},
   "outputs": [],
   "source": [
    "import random\n",
    "\n",
    "def choose_first():\n",
    "    # randomly choose which player starts\n",
    "    flip = random.randint(0,1)\n",
    "    \n",
    "    if flip == 0:\n",
    "        return 'Player 1'\n",
    "    else:\n",
    "        return 'Player 2'"
   ]
  },
  {
   "cell_type": "code",
   "execution_count": 9,
   "metadata": {},
   "outputs": [],
   "source": [
    "def space_check(board, position):\n",
    "    # check if there is a empty position in the board\n",
    "    return board[position] == ' '\n",
    "        "
   ]
  },
  {
   "cell_type": "code",
   "execution_count": 10,
   "metadata": {},
   "outputs": [],
   "source": [
    "def full_board_check(board):\n",
    "    \n",
    "    for i in range(1,10):\n",
    "        if space_check(board,i):\n",
    "            return False\n",
    "    # board is full if we return True\n",
    "    return True"
   ]
  },
  {
   "cell_type": "code",
   "execution_count": 11,
   "metadata": {},
   "outputs": [],
   "source": [
    "def player_choice(board):\n",
    "    #\n",
    "    position = 0 # nothing is in there\n",
    "    \n",
    "    while position not in [1,2,3,4,5,6,7,8,9] or not space_check(board,position):\n",
    "        position = int(input('Choose a position: (1-9)'))\n",
    "        \n",
    "    return position"
   ]
  },
  {
   "cell_type": "code",
   "execution_count": null,
   "metadata": {},
   "outputs": [],
   "source": [
    "player_choice(test_board)"
   ]
  },
  {
   "cell_type": "code",
   "execution_count": 18,
   "metadata": {},
   "outputs": [],
   "source": [
    "def replay():\n",
    "    \n",
    "    choice = input(\"Play again? Enter Y or N\")\n",
    "    \n",
    "    return choice == 'Y'"
   ]
  },
  {
   "cell_type": "code",
   "execution_count": 22,
   "metadata": {},
   "outputs": [
    {
     "name": "stdout",
     "output_type": "stream",
     "text": [
      " O |   | X \n",
      "---|---|---\n",
      "   | O | X \n",
      "---|---|---\n",
      " X | O | X \n",
      "Player 1 won!\n",
      "Play again? Enter Y or Nn\n"
     ]
    }
   ],
   "source": [
    "print('Welcome to Tic Tac Toe!')\n",
    "\n",
    "while True:\n",
    "    #play the game\n",
    "    ## Set evrything up (board, whos first, choose markers (X,O)\n",
    "    the_board = [' ']*10\n",
    "    player1_marker, player2_marker = player_input()\n",
    "    \n",
    "    turn = choose_first()\n",
    "    print(turn +' will go first')\n",
    "    \n",
    "    play_game = input('Ready to play? y or n?')\n",
    "    \n",
    "    if play_game == 'y':\n",
    "        game_on = True\n",
    "    else: \n",
    "        game_on = False\n",
    "        \n",
    "    ## Game Play\n",
    "    #Player 1 Turn\n",
    "    while game_on:\n",
    "        if turn == 'Player 1':\n",
    "            display_tictac_board(the_board)\n",
    "            position = player_choice(the_board)\n",
    "            place_marker(the_board,player1_marker,position)\n",
    "            if win_check(the_board,player1_marker):\n",
    "                display_tictac_board(the_board)\n",
    "                print('Player 1 won!')\n",
    "                game_on = False\n",
    "            else:\n",
    "                if full_board_check(the_board):\n",
    "                    display_tictac_board(the_board)\n",
    "                    print('Tie game!')\n",
    "                    game_on = False\n",
    "                else:\n",
    "                    turn = 'Player 2'\n",
    "    \n",
    "    #while game_on:\n",
    "       \n",
    "        \n",
    "        \n",
    "        # Player2's turn.\n",
    "        else:\n",
    "            display_tictac_board(the_board)\n",
    "            position = player_choice(the_board)\n",
    "            place_marker(the_board,player2_marker,position)\n",
    "            if win_check(the_board,player2_marker):\n",
    "                display_tictac_board(the_board)\n",
    "                print('Player 2 won!')\n",
    "                game_on = False\n",
    "            else:\n",
    "                if full_board_check(the_board):\n",
    "                    display_tictac_board(the_board)\n",
    "                    print('Tie game!')\n",
    "                    game_on = False\n",
    "                else:\n",
    "                    turn = 'Player 1'       \n",
    "\n",
    "\n",
    "    if not replay():\n",
    "        break\n",
    "        #break out of the while loop on replay()"
   ]
  }
 ],
 "metadata": {
  "kernelspec": {
   "display_name": "Python 3",
   "language": "python",
   "name": "python3"
  },
  "language_info": {
   "codemirror_mode": {
    "name": "ipython",
    "version": 3
   },
   "file_extension": ".py",
   "mimetype": "text/x-python",
   "name": "python",
   "nbconvert_exporter": "python",
   "pygments_lexer": "ipython3",
   "version": "3.8.3"
  }
 },
 "nbformat": 4,
 "nbformat_minor": 4
}
